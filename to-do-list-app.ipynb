{
 "cells": [
  {
   "cell_type": "code",
   "execution_count": 3,
   "id": "2743ba52",
   "metadata": {},
   "outputs": [],
   "source": [
    "class Task:\n",
    "    def __init__(self, title, description, status):\n",
    "        self.title = title\n",
    "        self.description = description\n",
    "        self.status = status\n",
    "\n",
    "\n",
    "class ToDoList:\n",
    "    def __init__(self):\n",
    "        self.tasks = []\n",
    "\n",
    "    def add_task(self, title, description):\n",
    "        new_task = Task(title, description, \"Incomplete\")\n",
    "        self.tasks.append(new_task)\n",
    "        print(\"Task added successfully.\")\n",
    "\n",
    "    def delete_task(self, title):\n",
    "        for task in self.tasks:\n",
    "            if task.title == title:\n",
    "                self.tasks.remove(task)\n",
    "                print(\"Task deleted successfully.\")\n",
    "                return\n",
    "        print(\"Task not found.\")\n",
    "\n",
    "    def view_tasks(self):\n",
    "        if not self.tasks:\n",
    "            print(\"No tasks found.\")\n",
    "        else:\n",
    "            for task in self.tasks:\n",
    "                print(f\"Title: {task.title}\")\n",
    "                print(f\"Description: {task.description}\")\n",
    "                print(f\"Status: {task.status}\")\n",
    "                print(\"\")\n",
    "\n",
    "    def save_tasks(self, filename):\n",
    "        try:\n",
    "            with open(filename, \"wb\") as file:\n",
    "                pickle.dump(self.tasks, file)\n",
    "            print(\"Tasks saved successfully.\")\n",
    "        except IOError:\n",
    "            print(\"Error saving tasks to file.\")\n",
    "\n",
    "    def load_tasks(self, filename):\n",
    "        try:\n",
    "            with open(filename, \"rb\") as file:\n",
    "                self.tasks = pickle.load(file)\n",
    "            print(\"Tasks loaded successfully.\")\n",
    "        except IOError:\n",
    "            print(\"Error loading tasks from file.\")\n"
   ]
  },
  {
   "cell_type": "code",
   "execution_count": 4,
   "id": "9884f3d5",
   "metadata": {},
   "outputs": [
    {
     "name": "stdout",
     "output_type": "stream",
     "text": [
      "Task added successfully.\n",
      "Task added successfully.\n",
      "Title: Buy groceries\n",
      "Description: Milk, eggs, bread\n",
      "Status: Incomplete\n",
      "\n",
      "Title: Finish project\n",
      "Description: Complete documentation\n",
      "Status: Incomplete\n",
      "\n",
      "Tasks saved successfully.\n",
      "Task deleted successfully.\n",
      "Title: Buy groceries\n",
      "Description: Milk, eggs, bread\n",
      "Status: Incomplete\n",
      "\n",
      "Tasks loaded successfully.\n",
      "Title: Buy groceries\n",
      "Description: Milk, eggs, bread\n",
      "Status: Incomplete\n",
      "\n",
      "Title: Finish project\n",
      "Description: Complete documentation\n",
      "Status: Incomplete\n",
      "\n"
     ]
    }
   ],
   "source": [
    "# Testing the app\n",
    "todo_list = ToDoList()\n",
    "\n",
    "todo_list.add_task(\"Buy groceries\", \"Milk, eggs, bread\")\n",
    "todo_list.add_task(\"Finish project\", \"Complete documentation\")\n",
    "\n",
    "todo_list.view_tasks()\n",
    "\n",
    "todo_list.save_tasks(\"tasks.pkl\")\n",
    "\n",
    "todo_list.delete_task(\"Finish project\")\n",
    "\n",
    "todo_list.view_tasks()\n",
    "\n",
    "todo_list.load_tasks(\"tasks.pkl\")\n",
    "\n",
    "todo_list.view_tasks()\n"
   ]
  },
  {
   "cell_type": "code",
   "execution_count": null,
   "id": "d70aea02",
   "metadata": {},
   "outputs": [],
   "source": []
  }
 ],
 "metadata": {
  "kernelspec": {
   "display_name": "Python 3 (ipykernel)",
   "language": "python",
   "name": "python3"
  },
  "language_info": {
   "codemirror_mode": {
    "name": "ipython",
    "version": 3
   },
   "file_extension": ".py",
   "mimetype": "text/x-python",
   "name": "python",
   "nbconvert_exporter": "python",
   "pygments_lexer": "ipython3",
   "version": "3.9.13"
  }
 },
 "nbformat": 4,
 "nbformat_minor": 5
}
